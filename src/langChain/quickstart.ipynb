{
 "cells": [
  {
   "cell_type": "code",
   "execution_count": 14,
   "id": "e57e8d97",
   "metadata": {},
   "outputs": [
    {
     "name": "stdout",
     "output_type": "stream",
     "text": [
      "Requirement already satisfied: langchain in /Users/andreicalazans/.pyenv/versions/3.7.13/lib/python3.7/site-packages (0.0.27)\n",
      "Requirement already satisfied: pydantic in /Users/andreicalazans/.pyenv/versions/3.7.13/lib/python3.7/site-packages (from langchain) (1.10.5)\n",
      "Requirement already satisfied: sqlalchemy in /Users/andreicalazans/.pyenv/versions/3.7.13/lib/python3.7/site-packages (from langchain) (2.0.4)\n",
      "Requirement already satisfied: numpy in /Users/andreicalazans/.pyenv/versions/3.7.13/lib/python3.7/site-packages (from langchain) (1.21.6)\n",
      "Requirement already satisfied: requests in /Users/andreicalazans/.pyenv/versions/3.7.13/lib/python3.7/site-packages (from langchain) (2.28.2)\n",
      "Requirement already satisfied: pyyaml in /Users/andreicalazans/.pyenv/versions/3.7.13/lib/python3.7/site-packages (from langchain) (6.0)\n",
      "Requirement already satisfied: typing-extensions>=4.2.0 in /Users/andreicalazans/.pyenv/versions/3.7.13/lib/python3.7/site-packages (from pydantic->langchain) (4.3.0)\n",
      "Requirement already satisfied: charset-normalizer<4,>=2 in /Users/andreicalazans/.pyenv/versions/3.7.13/lib/python3.7/site-packages (from requests->langchain) (3.0.1)\n",
      "Requirement already satisfied: idna<4,>=2.5 in /Users/andreicalazans/.pyenv/versions/3.7.13/lib/python3.7/site-packages (from requests->langchain) (3.4)\n",
      "Requirement already satisfied: urllib3<1.27,>=1.21.1 in /Users/andreicalazans/.pyenv/versions/3.7.13/lib/python3.7/site-packages (from requests->langchain) (1.26.14)\n",
      "Requirement already satisfied: certifi>=2017.4.17 in /Users/andreicalazans/.pyenv/versions/3.7.13/lib/python3.7/site-packages (from requests->langchain) (2022.12.7)\n",
      "Requirement already satisfied: greenlet!=0.4.17 in /Users/andreicalazans/.pyenv/versions/3.7.13/lib/python3.7/site-packages (from sqlalchemy->langchain) (2.0.2)\n",
      "Requirement already satisfied: importlib-metadata in /Users/andreicalazans/.pyenv/versions/3.7.13/lib/python3.7/site-packages (from sqlalchemy->langchain) (6.0.0)\n",
      "Requirement already satisfied: zipp>=0.5 in /Users/andreicalazans/.pyenv/versions/3.7.13/lib/python3.7/site-packages (from importlib-metadata->sqlalchemy->langchain) (3.14.0)\n",
      "Note: you may need to restart the kernel to use updated packages.\n"
     ]
    }
   ],
   "source": [
    "pip install langchain"
   ]
  },
  {
   "cell_type": "code",
   "execution_count": 3,
   "id": "7ad9c239",
   "metadata": {},
   "outputs": [
    {
     "name": "stdout",
     "output_type": "stream",
     "text": [
      "Collecting openai\n",
      "  Downloading openai-0.27.4-py3-none-any.whl (70 kB)\n",
      "\u001b[2K     \u001b[38;2;114;156;31m━━━━━━━━━━━━━━━━━━━━━━━━━━━━━━━━━━━━━━━\u001b[0m \u001b[32m70.3/70.3 kB\u001b[0m \u001b[31m296.0 kB/s\u001b[0m eta \u001b[36m0:00:00\u001b[0m kB/s\u001b[0m eta \u001b[36m0:00:01\u001b[0m\n",
      "\u001b[?25hRequirement already satisfied: requests>=2.20 in /Users/andreicalazans/.pyenv/versions/3.11.2/lib/python3.11/site-packages (from openai) (2.28.2)\n",
      "Collecting tqdm\n",
      "  Downloading tqdm-4.65.0-py3-none-any.whl (77 kB)\n",
      "\u001b[2K     \u001b[38;2;114;156;31m━━━━━━━━━━━━━━━━━━━━━━━━━━━━━━━━━━━━━━━━\u001b[0m \u001b[32m77.1/77.1 kB\u001b[0m \u001b[31m1.4 MB/s\u001b[0m eta \u001b[36m0:00:00\u001b[0m MB/s\u001b[0m eta \u001b[36m0:00:01\u001b[0m\n",
      "\u001b[?25hRequirement already satisfied: aiohttp in /Users/andreicalazans/.pyenv/versions/3.11.2/lib/python3.11/site-packages (from openai) (3.8.4)\n",
      "Requirement already satisfied: charset-normalizer<4,>=2 in /Users/andreicalazans/.pyenv/versions/3.11.2/lib/python3.11/site-packages (from requests>=2.20->openai) (3.1.0)\n",
      "Requirement already satisfied: idna<4,>=2.5 in /Users/andreicalazans/.pyenv/versions/3.11.2/lib/python3.11/site-packages (from requests>=2.20->openai) (3.4)\n",
      "Requirement already satisfied: urllib3<1.27,>=1.21.1 in /Users/andreicalazans/.pyenv/versions/3.11.2/lib/python3.11/site-packages (from requests>=2.20->openai) (1.26.15)\n",
      "Requirement already satisfied: certifi>=2017.4.17 in /Users/andreicalazans/.pyenv/versions/3.11.2/lib/python3.11/site-packages (from requests>=2.20->openai) (2022.12.7)\n",
      "Requirement already satisfied: attrs>=17.3.0 in /Users/andreicalazans/.pyenv/versions/3.11.2/lib/python3.11/site-packages (from aiohttp->openai) (23.1.0)\n",
      "Requirement already satisfied: multidict<7.0,>=4.5 in /Users/andreicalazans/.pyenv/versions/3.11.2/lib/python3.11/site-packages (from aiohttp->openai) (6.0.4)\n",
      "Requirement already satisfied: async-timeout<5.0,>=4.0.0a3 in /Users/andreicalazans/.pyenv/versions/3.11.2/lib/python3.11/site-packages (from aiohttp->openai) (4.0.2)\n",
      "Requirement already satisfied: yarl<2.0,>=1.0 in /Users/andreicalazans/.pyenv/versions/3.11.2/lib/python3.11/site-packages (from aiohttp->openai) (1.8.2)\n",
      "Requirement already satisfied: frozenlist>=1.1.1 in /Users/andreicalazans/.pyenv/versions/3.11.2/lib/python3.11/site-packages (from aiohttp->openai) (1.3.3)\n",
      "Requirement already satisfied: aiosignal>=1.1.2 in /Users/andreicalazans/.pyenv/versions/3.11.2/lib/python3.11/site-packages (from aiohttp->openai) (1.3.1)\n",
      "Installing collected packages: tqdm, openai\n",
      "Successfully installed openai-0.27.4 tqdm-4.65.0\n",
      "\n",
      "\u001b[1m[\u001b[0m\u001b[34;49mnotice\u001b[0m\u001b[1;39;49m]\u001b[0m\u001b[39;49m A new release of pip available: \u001b[0m\u001b[31;49m22.3.1\u001b[0m\u001b[39;49m -> \u001b[0m\u001b[32;49m23.1\u001b[0m\n",
      "\u001b[1m[\u001b[0m\u001b[34;49mnotice\u001b[0m\u001b[1;39;49m]\u001b[0m\u001b[39;49m To update, run: \u001b[0m\u001b[32;49mpip install --upgrade pip\u001b[0m\n",
      "Note: you may need to restart the kernel to use updated packages.\n"
     ]
    }
   ],
   "source": [
    "pip install openai"
   ]
  },
  {
   "cell_type": "code",
   "execution_count": 4,
   "id": "32d21f02",
   "metadata": {},
   "outputs": [],
   "source": [
    "import os"
   ]
  },
  {
   "cell_type": "code",
   "execution_count": null,
   "id": "f14cf889",
   "metadata": {},
   "outputs": [],
   "source": [
    "os.environ[\"OPENAI_API_KEY\"] = \"\""
   ]
  },
  {
   "cell_type": "code",
   "execution_count": 5,
   "id": "e26fbad0",
   "metadata": {},
   "outputs": [],
   "source": [
    "from langchain.llms import OpenAI"
   ]
  },
  {
   "cell_type": "code",
   "execution_count": 6,
   "id": "3900369c",
   "metadata": {},
   "outputs": [],
   "source": [
    "llm = OpenAI(temperature=0.9)"
   ]
  },
  {
   "cell_type": "code",
   "execution_count": 16,
   "id": "089022b5",
   "metadata": {},
   "outputs": [],
   "source": [
    "# text = \"What would be a good company name for a company that makes colorful socks?\"\n",
    "# print(llm(text))"
   ]
  },
  {
   "cell_type": "code",
   "execution_count": 7,
   "id": "357d0ebc",
   "metadata": {},
   "outputs": [],
   "source": [
    "from langchain.prompts import PromptTemplate"
   ]
  },
  {
   "cell_type": "code",
   "execution_count": 8,
   "id": "27e3ee2e",
   "metadata": {},
   "outputs": [],
   "source": [
    "prompt = PromptTemplate(\n",
    "    input_variables=[\"product\"],\n",
    "    template=\"What is a good name for a company that makes {product}?\",\n",
    ")"
   ]
  },
  {
   "cell_type": "code",
   "execution_count": 9,
   "id": "04d84626",
   "metadata": {},
   "outputs": [
    {
     "name": "stdout",
     "output_type": "stream",
     "text": [
      "\n",
      "\n",
      "Performance4Life Supplements\n"
     ]
    }
   ],
   "source": [
    "print(llm(prompt.format(product=\"performance supplements\")))"
   ]
  },
  {
   "cell_type": "code",
   "execution_count": 10,
   "id": "c5cefa81",
   "metadata": {},
   "outputs": [],
   "source": [
    "from langchain.chains import LLMChain\n",
    "chain = LLMChain(llm=llm, prompt=prompt)"
   ]
  },
  {
   "cell_type": "code",
   "execution_count": 11,
   "id": "22413f03",
   "metadata": {},
   "outputs": [
    {
     "data": {
      "text/plain": [
       "'\\n\\nEcoBoost Performance Supplements.'"
      ]
     },
     "execution_count": 11,
     "metadata": {},
     "output_type": "execute_result"
    }
   ],
   "source": [
    "chain.run(\"ecological performance supplement\")"
   ]
  },
  {
   "cell_type": "code",
   "execution_count": 12,
   "id": "10efaada",
   "metadata": {},
   "outputs": [],
   "source": [
    "from langchain.agents import load_tools\n",
    "from langchain.agents import initialize_agent\n",
    "from langchain.agents import AgentType\n",
    "tools = load_tools([\"llm-math\"], llm=llm)"
   ]
  },
  {
   "cell_type": "code",
   "execution_count": 13,
   "id": "05ec46e9",
   "metadata": {},
   "outputs": [
    {
     "name": "stdout",
     "output_type": "stream",
     "text": [
      "\n",
      "\n",
      "\u001b[1m> Entering new AgentExecutor chain...\u001b[0m\n",
      "\u001b[32;1m\u001b[1;3m I need to look up who Leo DiCaprio's girlfriend is and then do some math\n",
      "Action: I need to look up who Leo DiCaprio's girlfriend is\n",
      "Action Input: Leo DiCaprio's girlfriend\u001b[0m\n",
      "Observation: I need to look up who Leo DiCaprio's girlfriend is is not a valid tool, try another one.\n",
      "Thought:\u001b[32;1m\u001b[1;3m I need to look up who Leo DiCaprio's girlfriend is\n",
      "Action: Google\n",
      "Action Input: Leo DiCaprio's girlfriend\u001b[0m\n",
      "Observation: Google is not a valid tool, try another one.\n",
      "Thought:\u001b[32;1m\u001b[1;3m I need to look up who Leo DiCaprio's girlfriend is\n",
      "Action: Search engine\n",
      "Action Input: Leo DiCaprio's girlfriend\u001b[0m\n",
      "Observation: Search engine is not a valid tool, try another one.\n",
      "Thought:\u001b[32;1m\u001b[1;3m I need to look up who Leo DiCaprio's girlfriend is\n",
      "Action: Internet\n",
      "Action Input: Leo DiCaprio's girlfriend\u001b[0m\n",
      "Observation: Internet is not a valid tool, try another one.\n",
      "Thought:\u001b[32;1m\u001b[1;3m I need to look up who Leo DiCaprio's girlfriend is\n",
      "Action: Wikipedia\n",
      "Action Input: Leo DiCaprio's girlfriend\u001b[0m\n",
      "Observation: Wikipedia is not a valid tool, try another one.\n",
      "Thought:\u001b[32;1m\u001b[1;3m I need to look up who Leo DiCaprio's girlfriend is\n",
      "Action: Research\n",
      "Action Input: Leo DiCaprio's girlfriend\u001b[0m\n",
      "Observation: Research is not a valid tool, try another one.\n",
      "Thought:\u001b[32;1m\u001b[1;3m I need to look up who Leo DiCaprio's girlfriend is\n",
      "Action: Online sources\n",
      "Action Input: Leo DiCaprio's girlfriend\u001b[0m\n",
      "Observation: Online sources is not a valid tool, try another one.\n",
      "Thought:\u001b[32;1m\u001b[1;3m I need to look up who Leo DiCaprio's girlfriend is\n",
      "Action: Web search\n",
      "Action Input: Leo DiCaprio's girlfriend\u001b[0m\n",
      "Observation: Web search is not a valid tool, try another one.\n",
      "Thought:\u001b[32;1m\u001b[1;3m I need to look up who Leo DiCaprio's girlfriend is\n",
      "Action: Internet search\n",
      "Action Input: Leo DiCaprio's girlfriend\u001b[0m\n",
      "Observation: Internet search is not a valid tool, try another one.\n",
      "Thought:\u001b[32;1m\u001b[1;3m I need to look up who Leo DiCaprio's girlfriend is\n",
      "Action: Online search\n",
      "Action Input: Leo DiCaprio's girlfriend\u001b[0m\n",
      "Observation: Online search is not a valid tool, try another one.\n",
      "Thought:\u001b[32;1m\u001b[1;3m I need to look up who Leo DiCaprio's girlfriend is\n",
      "Action: Google search\n",
      "Action Input: Leo DiCaprio's girlfriend\u001b[0m\n",
      "Observation: Google search is not a valid tool, try another one.\n",
      "Thought:\u001b[32;1m\u001b[1;3m I need to look up who Leo DiCaprio's girlfriend is\n",
      "Action: Internet research\n",
      "Action Input: Leo DiCaprio's girlfriend\u001b[0m\n",
      "Observation: Internet research is not a valid tool, try another one.\n",
      "Thought:\u001b[32;1m\u001b[1;3m I need to look up who Leo DiCaprio's girlfriend is\n",
      "Action: Online research\n",
      "Action Input: Leo DiCaprio's girlfriend\u001b[0m\n",
      "Observation: Online research is not a valid tool, try another one.\n",
      "Thought:\u001b[32;1m\u001b[1;3m I need to look up who Leo DiCaprio's girlfriend is\n",
      "Action: Search\n",
      "Action Input: Leo DiCaprio's girlfriend\u001b[0m\n",
      "Observation: Search is not a valid tool, try another one.\n",
      "Thought:\u001b[32;1m\u001b[1;3m I need to look up who Leo DiCaprio's girlfriend is\n",
      "Action: Research engine\n",
      "Action Input: Leo DiCaprio's girlfriend\u001b[0m\n",
      "Observation: Research engine is not a valid tool, try another one.\n",
      "Thought:\u001b[32;1m\u001b[1;3m\u001b[0m\n",
      "\n",
      "\u001b[1m> Finished chain.\u001b[0m\n"
     ]
    },
    {
     "data": {
      "text/plain": [
       "'Agent stopped due to max iterations.'"
      ]
     },
     "execution_count": 13,
     "metadata": {},
     "output_type": "execute_result"
    }
   ],
   "source": [
    "agent = initialize_agent(tools, llm, agent=AgentType.ZERO_SHOT_REACT_DESCRIPTION, verbose=True)\n",
    "agent.run(\"Who is Leo DiCaprio's girlfriend? What is her current age raised to the 0.43 power?\")\n"
   ]
  }
 ],
 "metadata": {
  "kernelspec": {
   "display_name": "Python 3 (ipykernel)",
   "language": "python",
   "name": "python3"
  },
  "language_info": {
   "codemirror_mode": {
    "name": "ipython",
    "version": 3
   },
   "file_extension": ".py",
   "mimetype": "text/x-python",
   "name": "python",
   "nbconvert_exporter": "python",
   "pygments_lexer": "ipython3",
   "version": "3.11.2"
  }
 },
 "nbformat": 4,
 "nbformat_minor": 5
}
