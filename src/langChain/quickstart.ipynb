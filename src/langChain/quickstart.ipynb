{
 "cells": [
  {
   "cell_type": "code",
   "execution_count": 1,
   "id": "e57e8d97",
   "metadata": {},
   "outputs": [
    {
     "name": "stdout",
     "output_type": "stream",
     "text": [
      "Requirement already satisfied: langchain in /Users/andreicalazans/.pyenv/versions/3.7.13/lib/python3.7/site-packages (0.0.27)\n",
      "Requirement already satisfied: numpy in /Users/andreicalazans/.pyenv/versions/3.7.13/lib/python3.7/site-packages (from langchain) (1.21.6)\n",
      "Requirement already satisfied: pydantic in /Users/andreicalazans/.pyenv/versions/3.7.13/lib/python3.7/site-packages (from langchain) (1.10.5)\n",
      "Requirement already satisfied: pyyaml in /Users/andreicalazans/.pyenv/versions/3.7.13/lib/python3.7/site-packages (from langchain) (6.0)\n",
      "Requirement already satisfied: requests in /Users/andreicalazans/.pyenv/versions/3.7.13/lib/python3.7/site-packages (from langchain) (2.28.2)\n",
      "Requirement already satisfied: sqlalchemy in /Users/andreicalazans/.pyenv/versions/3.7.13/lib/python3.7/site-packages (from langchain) (2.0.4)\n",
      "Requirement already satisfied: typing-extensions>=4.2.0 in /Users/andreicalazans/.pyenv/versions/3.7.13/lib/python3.7/site-packages (from pydantic->langchain) (4.3.0)\n",
      "Requirement already satisfied: urllib3<1.27,>=1.21.1 in /Users/andreicalazans/.pyenv/versions/3.7.13/lib/python3.7/site-packages (from requests->langchain) (1.26.14)\n",
      "Requirement already satisfied: certifi>=2017.4.17 in /Users/andreicalazans/.pyenv/versions/3.7.13/lib/python3.7/site-packages (from requests->langchain) (2022.12.7)\n",
      "Requirement already satisfied: idna<4,>=2.5 in /Users/andreicalazans/.pyenv/versions/3.7.13/lib/python3.7/site-packages (from requests->langchain) (3.4)\n",
      "Requirement already satisfied: charset-normalizer<4,>=2 in /Users/andreicalazans/.pyenv/versions/3.7.13/lib/python3.7/site-packages (from requests->langchain) (3.0.1)\n",
      "Requirement already satisfied: importlib-metadata in /Users/andreicalazans/.pyenv/versions/3.7.13/lib/python3.7/site-packages (from sqlalchemy->langchain) (6.0.0)\n",
      "Requirement already satisfied: greenlet!=0.4.17 in /Users/andreicalazans/.pyenv/versions/3.7.13/lib/python3.7/site-packages (from sqlalchemy->langchain) (2.0.2)\n",
      "Requirement already satisfied: zipp>=0.5 in /Users/andreicalazans/.pyenv/versions/3.7.13/lib/python3.7/site-packages (from importlib-metadata->sqlalchemy->langchain) (3.14.0)\n",
      "\u001b[33mWARNING: You are using pip version 22.0.4; however, version 23.1 is available.\n",
      "You should consider upgrading via the '/Users/andreicalazans/.pyenv/versions/3.7.13/bin/python3.7 -m pip install --upgrade pip' command.\u001b[0m\u001b[33m\n",
      "\u001b[0mNote: you may need to restart the kernel to use updated packages.\n"
     ]
    }
   ],
   "source": [
    "pip install langchain"
   ]
  },
  {
   "cell_type": "code",
   "execution_count": null,
   "id": "7ad9c239",
   "metadata": {},
   "outputs": [],
   "source": [
    "pip install openai"
   ]
  },
  {
   "cell_type": "code",
   "execution_count": 10,
   "id": "32d21f02",
   "metadata": {},
   "outputs": [],
   "source": [
    "import os"
   ]
  },
  {
   "cell_type": "code",
   "execution_count": null,
   "id": "f14cf889",
   "metadata": {},
   "outputs": [],
   "source": [
    "os.environ[\"OPENAI_API_KEY\"] = \"\""
   ]
  },
  {
   "cell_type": "code",
   "execution_count": 12,
   "id": "e26fbad0",
   "metadata": {},
   "outputs": [],
   "source": [
    "from langchain.llms import OpenAI"
   ]
  },
  {
   "cell_type": "code",
   "execution_count": 13,
   "id": "3900369c",
   "metadata": {},
   "outputs": [],
   "source": [
    "llm = OpenAI(temperature=0.9)"
   ]
  },
  {
   "cell_type": "code",
   "execution_count": 16,
   "id": "089022b5",
   "metadata": {},
   "outputs": [],
   "source": [
    "# text = \"What would be a good company name for a company that makes colorful socks?\"\n",
    "# print(llm(text))"
   ]
  },
  {
   "cell_type": "code",
   "execution_count": 21,
   "id": "357d0ebc",
   "metadata": {},
   "outputs": [],
   "source": [
    "from langchain.prompts import PromptTemplate"
   ]
  },
  {
   "cell_type": "code",
   "execution_count": 22,
   "id": "27e3ee2e",
   "metadata": {},
   "outputs": [],
   "source": [
    "prompt = PromptTemplate(\n",
    "    input_variables=[\"product\"],\n",
    "    template=\"What is a good name for a company that makes {product}?\",\n",
    ")"
   ]
  },
  {
   "cell_type": "code",
   "execution_count": 25,
   "id": "04d84626",
   "metadata": {},
   "outputs": [
    {
     "name": "stdout",
     "output_type": "stream",
     "text": [
      "\n",
      "\n",
      "Power Surge Nutrition.\n"
     ]
    }
   ],
   "source": [
    "print(llm(prompt.format(product=\"performance supplements\")))"
   ]
  },
  {
   "cell_type": "code",
   "execution_count": 26,
   "id": "c5cefa81",
   "metadata": {},
   "outputs": [],
   "source": [
    "from langchain.chains import LLMChain\n",
    "chain = LLMChain(llm=llm, prompt=prompt)"
   ]
  },
  {
   "cell_type": "code",
   "execution_count": 27,
   "id": "22413f03",
   "metadata": {},
   "outputs": [
    {
     "data": {
      "text/plain": [
       "'\\n\\nGreen Performance Boosters'"
      ]
     },
     "execution_count": 27,
     "metadata": {},
     "output_type": "execute_result"
    }
   ],
   "source": [
    "chain.run(\"ecological performance supplement\")"
   ]
  }
 ],
 "metadata": {
  "kernelspec": {
   "display_name": "Python 3 (ipykernel)",
   "language": "python",
   "name": "python3"
  },
  "language_info": {
   "codemirror_mode": {
    "name": "ipython",
    "version": 3
   },
   "file_extension": ".py",
   "mimetype": "text/x-python",
   "name": "python",
   "nbconvert_exporter": "python",
   "pygments_lexer": "ipython3",
   "version": "3.7.13"
  }
 },
 "nbformat": 4,
 "nbformat_minor": 5
}
